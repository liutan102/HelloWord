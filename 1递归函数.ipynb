{
 "cells": [
  {
   "cell_type": "markdown",
   "metadata": {},
   "source": [
    "# 递归函数\n",
    "- 递归：函数间接或直接调用自己\n",
    "- 公式：n*f(n-1) n>=2\n",
    "- 递归分两个过程\n",
    "    - 往下调用，分解的过程\n",
    "    - 网上回溯 综合的过程\n",
    "- 递归需要注意\n",
    "    - 一定要有结束条件\n",
    "- 是以资源换取编写速度的算法"
   ]
  },
  {
   "cell_type": "code",
   "execution_count": 6,
   "metadata": {},
   "outputs": [
    {
     "name": "stdout",
     "output_type": "stream",
     "text": [
      "asdasd\n",
      "121221\n"
     ]
    }
   ],
   "source": [
    "def fun1(n):\n",
    "    print(\"asdasd\")\n",
    "def fun2(m):\n",
    "    fun1(100)\n",
    "    print(121221)\n",
    "fun2(100)"
   ]
  },
  {
   "cell_type": "code",
   "execution_count": 49,
   "metadata": {},
   "outputs": [
    {
     "name": "stdout",
     "output_type": "stream",
     "text": [
      "f(s11): 120\n"
     ]
    }
   ],
   "source": [
    "# 阶乘\n",
    "# func_a 表示计算  阶乘\n",
    "# 利用数学公式\n",
    "def num_a(n):\n",
    "    if n == 1:\n",
    "        \n",
    "        return 1\n",
    "    return n * num_a(n-1)\n",
    "\n",
    "\n",
    "print(\"f(s11):\",num_a(5))\n"
   ]
  },
  {
   "cell_type": "code",
   "execution_count": 25,
   "metadata": {},
   "outputs": [
    {
     "ename": "RecursionError",
     "evalue": "maximum recursion depth exceeded",
     "output_type": "error",
     "traceback": [
      "\u001b[1;31m---------------------------------------------------------------------------\u001b[0m",
      "\u001b[1;31mRecursionError\u001b[0m                            Traceback (most recent call last)",
      "\u001b[1;32m<ipython-input-25-22b4852844d6>\u001b[0m in \u001b[0;36m<module>\u001b[1;34m()\u001b[0m\n\u001b[0;32m      3\u001b[0m \u001b[1;33m\u001b[0m\u001b[0m\n\u001b[0;32m      4\u001b[0m     \u001b[1;32mreturn\u001b[0m \u001b[0mn\u001b[0m \u001b[1;33m*\u001b[0m \u001b[0mnum_a\u001b[0m\u001b[1;33m(\u001b[0m\u001b[0mn\u001b[0m\u001b[1;33m-\u001b[0m\u001b[1;36m1\u001b[0m\u001b[1;33m)\u001b[0m\u001b[1;33m\u001b[0m\u001b[0m\n\u001b[1;32m----> 5\u001b[1;33m \u001b[0mnum_a\u001b[0m\u001b[1;33m(\u001b[0m\u001b[1;36m100\u001b[0m\u001b[1;33m)\u001b[0m\u001b[1;33m\u001b[0m\u001b[0m\n\u001b[0m",
      "\u001b[1;32m<ipython-input-25-22b4852844d6>\u001b[0m in \u001b[0;36mnum_a\u001b[1;34m(n)\u001b[0m\n\u001b[0;32m      2\u001b[0m \u001b[1;32mdef\u001b[0m \u001b[0mnum_a\u001b[0m\u001b[1;33m(\u001b[0m\u001b[0mn\u001b[0m\u001b[1;33m)\u001b[0m\u001b[1;33m:\u001b[0m\u001b[1;33m\u001b[0m\u001b[0m\n\u001b[0;32m      3\u001b[0m \u001b[1;33m\u001b[0m\u001b[0m\n\u001b[1;32m----> 4\u001b[1;33m     \u001b[1;32mreturn\u001b[0m \u001b[0mn\u001b[0m \u001b[1;33m*\u001b[0m \u001b[0mnum_a\u001b[0m\u001b[1;33m(\u001b[0m\u001b[0mn\u001b[0m\u001b[1;33m-\u001b[0m\u001b[1;36m1\u001b[0m\u001b[1;33m)\u001b[0m\u001b[1;33m\u001b[0m\u001b[0m\n\u001b[0m\u001b[0;32m      5\u001b[0m \u001b[0mnum_a\u001b[0m\u001b[1;33m(\u001b[0m\u001b[1;36m100\u001b[0m\u001b[1;33m)\u001b[0m\u001b[1;33m\u001b[0m\u001b[0m\n",
      "... last 1 frames repeated, from the frame below ...\n",
      "\u001b[1;32m<ipython-input-25-22b4852844d6>\u001b[0m in \u001b[0;36mnum_a\u001b[1;34m(n)\u001b[0m\n\u001b[0;32m      2\u001b[0m \u001b[1;32mdef\u001b[0m \u001b[0mnum_a\u001b[0m\u001b[1;33m(\u001b[0m\u001b[0mn\u001b[0m\u001b[1;33m)\u001b[0m\u001b[1;33m:\u001b[0m\u001b[1;33m\u001b[0m\u001b[0m\n\u001b[0;32m      3\u001b[0m \u001b[1;33m\u001b[0m\u001b[0m\n\u001b[1;32m----> 4\u001b[1;33m     \u001b[1;32mreturn\u001b[0m \u001b[0mn\u001b[0m \u001b[1;33m*\u001b[0m \u001b[0mnum_a\u001b[0m\u001b[1;33m(\u001b[0m\u001b[0mn\u001b[0m\u001b[1;33m-\u001b[0m\u001b[1;36m1\u001b[0m\u001b[1;33m)\u001b[0m\u001b[1;33m\u001b[0m\u001b[0m\n\u001b[0m\u001b[0;32m      5\u001b[0m \u001b[0mnum_a\u001b[0m\u001b[1;33m(\u001b[0m\u001b[1;36m100\u001b[0m\u001b[1;33m)\u001b[0m\u001b[1;33m\u001b[0m\u001b[0m\n",
      "\u001b[1;31mRecursionError\u001b[0m: maximum recursion depth exceeded"
     ]
    }
   ],
   "source": [
    "# 递归必须有结束 条件 否则会死掉\n",
    "def num_a(n):\n",
    "    \n",
    "    return n * num_a(n-1)\n",
    "num_a(100)"
   ]
  },
  {
   "cell_type": "code",
   "execution_count": 56,
   "metadata": {},
   "outputs": [
    {
     "name": "stdout",
     "output_type": "stream",
     "text": [
      "fib =  55\n"
     ]
    }
   ],
   "source": [
    "# 斐波那契数列\n",
    "# 数学定义自行查找\n",
    "# F[n]=F[n-1]+F[n-2](n>=3,F[1]=1,F[2]=1\n",
    "def fib(n):\n",
    "   \n",
    "    if n == 1 or n == 2:\n",
    "        return 1\n",
    "    return fib(n-1) + fib(n-2)\n",
    "res = fib(10)\n",
    "print(\"fib = \",res)"
   ]
  },
  {
   "cell_type": "code",
   "execution_count": 12,
   "metadata": {},
   "outputs": [],
   "source": [
    "# 汉诺塔\n",
    "a = \"1\"\n",
    "b = \"2\"\n",
    "c = \"3\"\n",
    "def hannuo(a,b,c,n):\n",
    "    if n == 1:\n",
    "        print(\"{} @@@> {}\".format(a,c))\n",
    "        return None\n",
    "    if n == 2:\n",
    "        print(\"{} @@@> {}\".format(a,b))\n",
    "        print(\"{} @@@> {}\".format(a,c))\n",
    "        print(\"{} @@@> {}\".format(b,c))\n",
    "        return None\n",
    "    hannuo(a,c,b,n-1)\n",
    "    print(\"{} @@@> {}\".format(a,c))\n",
    "    hannuo(b,a,c,n-1)\n"
   ]
  },
  {
   "cell_type": "code",
   "execution_count": 13,
   "metadata": {},
   "outputs": [
    {
     "name": "stdout",
     "output_type": "stream",
     "text": [
      "1 @@@> 3\n",
      "1 @@@> 2\n",
      "3 @@@> 2\n",
      "1 @@@> 3\n",
      "2 @@@> 1\n",
      "2 @@@> 3\n",
      "1 @@@> 3\n",
      "1 @@@> 2\n",
      "3 @@@> 2\n",
      "3 @@@> 1\n",
      "2 @@@> 1\n",
      "3 @@@> 2\n",
      "1 @@@> 3\n",
      "1 @@@> 2\n",
      "3 @@@> 2\n",
      "1 @@@> 3\n",
      "2 @@@> 1\n",
      "2 @@@> 3\n",
      "1 @@@> 3\n",
      "2 @@@> 1\n",
      "3 @@@> 2\n",
      "3 @@@> 1\n",
      "2 @@@> 1\n",
      "2 @@@> 3\n",
      "1 @@@> 3\n",
      "1 @@@> 2\n",
      "3 @@@> 2\n",
      "1 @@@> 3\n",
      "2 @@@> 1\n",
      "2 @@@> 3\n",
      "1 @@@> 3\n"
     ]
    }
   ],
   "source": [
    "hannuo(a,b,c,5)"
   ]
  },
  {
   "cell_type": "code",
   "execution_count": 59,
   "metadata": {},
   "outputs": [],
   "source": [
    "# 汉诺塔\n",
    "a = \"A\"\n",
    "b = \"B\"\n",
    "c = \"C\"\n",
    "def hannuo(a,b,c,n):\n",
    "    print(a,b,c,n)\n",
    "    if n == 1:\n",
    "        print(\"{}-->{}\".format(a,c))\n",
    "        return\n",
    "    if n == 2:\n",
    "        print(\"{}-->{}\".format(a,b))\n",
    "        print(\"{}-->{}\".format(a,c))\n",
    "        print(\"{}-->{}\".format(b,c))\n",
    "        return\n",
    "    hannuo(a,c,b,n-1)\n",
    "    print(\"{}-->{}\".format(a,c))\n",
    "    hannuo(b,a,c,n-1)\n",
    "\n"
   ]
  },
  {
   "cell_type": "code",
   "execution_count": 60,
   "metadata": {},
   "outputs": [
    {
     "name": "stdout",
     "output_type": "stream",
     "text": [
      "A B C 3\n",
      "A C B 2\n",
      "A-->C\n",
      "A-->B\n",
      "C-->B\n",
      "A-->C\n",
      "B A C 2\n",
      "B-->A\n",
      "B-->C\n",
      "A-->C\n"
     ]
    }
   ],
   "source": [
    "hannuo(a,b,c,3)"
   ]
  },
  {
   "cell_type": "code",
   "execution_count": 40,
   "metadata": {},
   "outputs": [
    {
     "name": "stdout",
     "output_type": "stream",
     "text": [
      "A C B 2\n",
      "A C B 1\n",
      "B A C\n"
     ]
    }
   ],
   "source": [
    "def aa(b,a,c,n):\n",
    "    print(b,c,a,n)\n",
    "    if n == 1:\n",
    "        print(a,b,c)\n",
    "        return\n",
    "    aa(b,a ,c,n-1)  \n",
    "    \n",
    "    \n",
    "\n",
    "\n",
    "aa(\"A\",\"B\",\"C\",2)"
   ]
  },
  {
   "cell_type": "code",
   "execution_count": null,
   "metadata": {},
   "outputs": [],
   "source": []
  }
 ],
 "metadata": {
  "kernelspec": {
   "display_name": "Python 3",
   "language": "python",
   "name": "python3"
  },
  "language_info": {
   "codemirror_mode": {
    "name": "ipython",
    "version": 3
   },
   "file_extension": ".py",
   "mimetype": "text/x-python",
   "name": "python",
   "nbconvert_exporter": "python",
   "pygments_lexer": "ipython3",
   "version": "3.7.4"
  }
 },
 "nbformat": 4,
 "nbformat_minor": 2
}
